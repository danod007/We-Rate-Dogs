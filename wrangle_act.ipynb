{
 "cells": [
  {
   "cell_type": "markdown",
   "metadata": {},
   "source": [
    "# Project: Wrangling and Analyze Data"
   ]
  },
  {
   "cell_type": "markdown",
   "metadata": {},
   "source": [
    "## Data Gathering\n",
    "In the cells below, I gathered **all** three pieces of data for this project and load them in the notebook. **Note:** the methods required to gather each data are different.\n"
   ]
  },
  {
   "cell_type": "code",
   "execution_count": null,
   "metadata": {},
   "outputs": [],
   "source": [
    "# import all necessary libraries\n",
    "import numpy as np\n",
    "import pandas as pd\n",
    "import requests \n",
    "import seaborn as sns\n",
    "import matplotlib.pyplot as plt\n",
    "# import tweepy\n",
    "# from tweepy import OAuthHandler\n",
    "import json\n",
    "%matplotlib inline\n",
    "\n"
   ]
  },
  {
   "cell_type": "markdown",
   "metadata": {},
   "source": [
    "1. Directly download the WeRateDogs Twitter archive data (twitter_archive_enhanced.csv)"
   ]
  },
  {
   "cell_type": "code",
   "execution_count": null,
   "metadata": {},
   "outputs": [],
   "source": [
    "twitter_archive_enhanced = pd.read_csv('/Users/mac/Downloads/twitter-archive-enhanced (1).csv')\n",
    "twitter_archive_enhanced.head()"
   ]
  },
  {
   "cell_type": "markdown",
   "metadata": {},
   "source": [
    "2. Get the Image Predictions file from a URL and write it on a file"
   ]
  },
  {
   "cell_type": "code",
   "execution_count": null,
   "metadata": {},
   "outputs": [],
   "source": [
    "# Get the image_predictions file using http requests\n",
    "url = \"https://d17h27t6h515a5.cloudfront.net/topher/2017/August/599fd2ad_image-predictions/image-predictions.tsv\"\n",
    "response = requests.get(url)\n",
    "\n",
    "# Write the response content into a text file \n",
    "with open('image_predictions.tsv', 'wb') as file:\n",
    "    file.write(response.content)"
   ]
  },
  {
   "cell_type": "code",
   "execution_count": null,
   "metadata": {},
   "outputs": [],
   "source": [
    "image_predictions=pd.read_csv('image_predictions.tsv', sep='\\t')\n",
    "image_predictions.sample(10)"
   ]
  },
  {
   "cell_type": "markdown",
   "metadata": {},
   "source": [
    "3. Get Data from tweets "
   ]
  },
  {
   "cell_type": "markdown",
   "metadata": {},
   "source": [
    "### NOTE:This particular page was instrumental in achieving this code below.\n",
    "\n",
    "https://stackoverflow.com/questions/47612822/how-to-create-pandas-dataframe-from-twitter-search-api"
   ]
  },
  {
   "cell_type": "code",
   "execution_count": null,
   "metadata": {},
   "outputs": [],
   "source": [
    "# # \n",
    "# consumer_key = ''\n",
    "# consumer_secret = ''\n",
    "# access_token = ''\n",
    "# access_token_secret = ''\n",
    "\n",
    "# # Authenticate User, Set access Token\n",
    "# auth = tweepy.OAuthHandler(consumer_key, consumer_secret)\n",
    "# auth.set_access_token(access_token, access_token_secret)\n",
    "# api = tweepy.API(auth, wait_on_rate_limit=True)\n",
    "\n",
    "# # Get tweet_ids from df\n",
    "# tweet_ids = twitter_archive_enhanced.tweet_id.values \n",
    "# tweet_ids"
   ]
  },
  {
   "cell_type": "markdown",
   "metadata": {},
   "source": [
    "##### 3. Get all collect tweet contents using tweet ids"
   ]
  },
  {
   "cell_type": "code",
   "execution_count": null,
   "metadata": {},
   "outputs": [],
   "source": [
    "# all_tweets = []\n",
    "# all_failed_tweets = []\n",
    "\n",
    "# for tweet_id in tweet_ids:\n",
    "    \n",
    "#     # Exception Handling\n",
    "#     try:\n",
    "#         # Use get_status to collect tweets using their IDs\n",
    "#         # Returns a get_status object\n",
    "#         tweets = api.get_status(tweet_id)\n",
    "#         all_tweets.append(tweets)\n",
    "#         # Catch exceptions\n",
    "#     except Exception as e:\n",
    "#         all_failed_tweets.append(e)\n",
    "\n",
    "# print(all_tweets)\n",
    "# print(all_failed_tweets)"
   ]
  },
  {
   "cell_type": "code",
   "execution_count": null,
   "metadata": {},
   "outputs": [],
   "source": [
    "# # Create a list to store the Json Object \n",
    "    \n",
    "# my_json_list =[]\n",
    " \n",
    "# # Iterate through the get_status object to isolate the Json        \n",
    "# for each_tweet in all_tweets:\n",
    "#     my_json_list.append(each_tweet._json)\n",
    "    \n",
    "# # Write and Dump the json object into a txt file\n",
    "\n",
    "# with open('tweet_json.txt','w') as json_file:\n",
    "#     json_file.write(json.dumps(my_json_list, indent=4))\n",
    "    \n",
    "# # Create a list to store dictionary data      \n",
    "# my_json_dict = []\n",
    "\n",
    "# with open('tweet_json.txt', encoding='utf-8') as text_file:\n",
    "#     my_all_data = json.load(text_file)\n",
    "    \n",
    "#     # extract the information from the t\n",
    "#     for each_dictionary in my_all_data:\n",
    "#         tweet_id = each_dictionary['id']\n",
    "#         whole_tweet = each_dictionary['text']\n",
    "#         only_url = whole_tweet[whole_tweet.find('https'):]\n",
    "#         favorite_count = each_dictionary['favorite_count']\n",
    "#         retweet_count = each_dictionary['retweet_count']\n",
    "#         created_at = each_dictionary['created_at']\n",
    "#         whole_source = each_dictionary['source']\n",
    "#         only_device = whole_source[whole_source.find('rel=\"nofollow\">') + 15:-4]\n",
    "#         source = only_device\n",
    "#         retweeted_status = each_dictionary['retweeted_status'] = each_dictionary.get('retweeted_status', 'Original tweet')\n",
    "#         if retweeted_status == 'Original tweet':\n",
    "#             url = only_url\n",
    "#         else:\n",
    "#             retweeted_status = 'This is a retweet'\n",
    "#             url = 'This is a retweet'\n",
    "            \n",
    "#         # append to list to create dataframe     \n",
    "\n",
    "#         my_json_dict.append({'tweet_id': str(tweet_id),\n",
    "#                              'favorite_count': int(favorite_count),\n",
    "#                              'retweet_count': int(retweet_count),\n",
    "#                              'url': url,\n",
    "#                              'created_at': created_at,\n",
    "#                              'source': source,\n",
    "#                              'retweeted_status': retweeted_status,\n",
    "#                             })\n",
    "#         # Create Dataframe\n",
    "#         tweet_api_df = pd.DataFrame(my_json_dict, columns = ['tweet_id', 'favorite_count', \n",
    "#                                                        'retweet_count', 'created_at',\n",
    "#                                                        'source', 'retweeted_status', 'url'])\n",
    "    \n",
    "        "
   ]
  },
  {
   "cell_type": "code",
   "execution_count": null,
   "metadata": {},
   "outputs": [],
   "source": [
    "# tweet_api_df"
   ]
  },
  {
   "cell_type": "code",
   "execution_count": null,
   "metadata": {},
   "outputs": [],
   "source": [
    "# tweet_api_df.to_csv('tweet_api_df',index=False)"
   ]
  },
  {
   "cell_type": "code",
   "execution_count": null,
   "metadata": {},
   "outputs": [],
   "source": [
    "tweet_api_df = pd.read_csv('/Users/mac/Downloads/submit-8b570c2d-6c98-47c8-9c4a-4d0145ee9737/home/tweet_api_df')"
   ]
  },
  {
   "cell_type": "markdown",
   "metadata": {},
   "source": [
    "## Assessing Data\n",
    "In this section, I detect and document at least **eight (8) quality issues and two (2) tidiness issue**. I use **both** visual assessment\n",
    "programmatic assessement to assess the data.\n",
    "\n",
    "\n"
   ]
  },
  {
   "cell_type": "markdown",
   "metadata": {},
   "source": [
    "### Virtual Assessment"
   ]
  },
  {
   "cell_type": "code",
   "execution_count": null,
   "metadata": {},
   "outputs": [],
   "source": [
    "twitter_archive_enhanced"
   ]
  },
  {
   "cell_type": "code",
   "execution_count": null,
   "metadata": {},
   "outputs": [],
   "source": [
    "image_predictions"
   ]
  },
  {
   "cell_type": "code",
   "execution_count": null,
   "metadata": {},
   "outputs": [],
   "source": [
    "tweet_api_df"
   ]
  },
  {
   "cell_type": "markdown",
   "metadata": {},
   "source": [
    "### Programmatic Assessment"
   ]
  },
  {
   "cell_type": "markdown",
   "metadata": {},
   "source": [
    "#### Twitter Archive"
   ]
  },
  {
   "cell_type": "code",
   "execution_count": null,
   "metadata": {},
   "outputs": [],
   "source": [
    "twitter_archive_enhanced.info()"
   ]
  },
  {
   "cell_type": "code",
   "execution_count": null,
   "metadata": {},
   "outputs": [],
   "source": [
    "twitter_archive_enhanced.describe()"
   ]
  },
  {
   "cell_type": "code",
   "execution_count": null,
   "metadata": {},
   "outputs": [],
   "source": [
    "sum(twitter_archive_enhanced.duplicated())"
   ]
  },
  {
   "cell_type": "code",
   "execution_count": null,
   "metadata": {},
   "outputs": [],
   "source": [
    "twitter_archive_enhanced.isnull().sum()"
   ]
  },
  {
   "cell_type": "code",
   "execution_count": null,
   "metadata": {},
   "outputs": [],
   "source": [
    "twitter_archive_enhanced.rating_denominator.value_counts()"
   ]
  },
  {
   "cell_type": "code",
   "execution_count": null,
   "metadata": {},
   "outputs": [],
   "source": [
    "twitter_archive_enhanced.rating_numerator.value_counts()"
   ]
  },
  {
   "cell_type": "code",
   "execution_count": null,
   "metadata": {},
   "outputs": [],
   "source": [
    "twitter_archive_enhanced.source.value_counts()"
   ]
  },
  {
   "cell_type": "markdown",
   "metadata": {},
   "source": [
    "#### Image Predictions"
   ]
  },
  {
   "cell_type": "code",
   "execution_count": null,
   "metadata": {},
   "outputs": [],
   "source": [
    "image_predictions.info()"
   ]
  },
  {
   "cell_type": "code",
   "execution_count": null,
   "metadata": {},
   "outputs": [],
   "source": [
    "image_predictions.describe()"
   ]
  },
  {
   "cell_type": "code",
   "execution_count": null,
   "metadata": {},
   "outputs": [],
   "source": [
    "sum(image_predictions.duplicated())"
   ]
  },
  {
   "cell_type": "code",
   "execution_count": null,
   "metadata": {},
   "outputs": [],
   "source": [
    "image_predictions.isnull().sum()"
   ]
  },
  {
   "cell_type": "code",
   "execution_count": null,
   "metadata": {},
   "outputs": [],
   "source": [
    "image_predictions.p1_dog.value_counts()"
   ]
  },
  {
   "cell_type": "code",
   "execution_count": null,
   "metadata": {},
   "outputs": [],
   "source": [
    "image_predictions.p2_dog.value_counts()"
   ]
  },
  {
   "cell_type": "code",
   "execution_count": null,
   "metadata": {},
   "outputs": [],
   "source": [
    "image_predictions.p3_dog.value_counts()"
   ]
  },
  {
   "cell_type": "markdown",
   "metadata": {},
   "source": [
    "#### Twitter API"
   ]
  },
  {
   "cell_type": "code",
   "execution_count": null,
   "metadata": {},
   "outputs": [],
   "source": [
    "tweet_api_df.info()"
   ]
  },
  {
   "cell_type": "code",
   "execution_count": null,
   "metadata": {},
   "outputs": [],
   "source": [
    "tweet_api_df.describe()"
   ]
  },
  {
   "cell_type": "code",
   "execution_count": null,
   "metadata": {},
   "outputs": [],
   "source": [
    "sum(tweet_api_df.duplicated())"
   ]
  },
  {
   "cell_type": "code",
   "execution_count": null,
   "metadata": {},
   "outputs": [],
   "source": [
    "tweet_api_df.isnull().sum()"
   ]
  },
  {
   "cell_type": "markdown",
   "metadata": {},
   "source": [
    "### Quality issues\n",
    "\n",
    "twitter_archive_df\n",
    "\n",
    "1. Rating Numerator and Ratings Denominator contain wrong Values\n",
    "\n",
    "2. timestamp column is a string \n",
    "\n",
    "3. retweets are present in dataset \n",
    "\n",
    "4. name column is in different case, contains impossible Values\n",
    "\n",
    "\n",
    "image_predictions_df\n",
    "\n",
    "5. Column Names are not decriptive enough\n",
    "\n",
    "6. p1 and p2 are in different cases\n",
    "\n",
    "\n",
    "tweet_api_df\n",
    "\n",
    "7. Delete Retweets\n",
    "\n",
    "8. created_at is a string"
   ]
  },
  {
   "cell_type": "markdown",
   "metadata": {},
   "source": [
    "### Tidiness issues\n",
    "twitter_archive_df\n",
    "\n",
    "1. Four Columns should be a single column\n",
    "\n",
    "2. tweet_id column not consistent in the three tables"
   ]
  },
  {
   "cell_type": "markdown",
   "metadata": {},
   "source": [
    "## Cleaning Data\n",
    "In this section, I clean **all** of the issues I documented while assessing. \n",
    "\n",
    "**Note:** I copied the original data before cleaning. Cleaning includes merging individual pieces of data according to the rules of [tidy data](https://cran.r-project.org/web/packages/tidyr/vignettes/tidy-data.html). The result should be a high-quality and tidy master pandas DataFrame (or DataFrames, if appropriate)."
   ]
  },
  {
   "cell_type": "code",
   "execution_count": null,
   "metadata": {},
   "outputs": [],
   "source": [
    "# Make copies of original pieces of data\n",
    "\n",
    "twitter_archive_enhanced_clean = twitter_archive_enhanced.copy()\n",
    "\n",
    "image_predictions_clean = image_predictions.copy()\n",
    "\n",
    "tweet_api_df_clean = tweet_api_df.copy()\n"
   ]
  },
  {
   "cell_type": "markdown",
   "metadata": {},
   "source": [
    "### Quality"
   ]
  },
  {
   "cell_type": "markdown",
   "metadata": {},
   "source": [
    "##### Issue #1: Rating Numerator and Ratings Denominator contain wrong Values"
   ]
  },
  {
   "cell_type": "markdown",
   "metadata": {},
   "source": [
    "#### Define: Treat both columns"
   ]
  },
  {
   "cell_type": "markdown",
   "metadata": {},
   "source": [
    "#### Code"
   ]
  },
  {
   "cell_type": "code",
   "execution_count": null,
   "metadata": {},
   "outputs": [],
   "source": [
    "# Start with Ratings Denominator\n",
    "\n",
    "twitter_archive_enhanced_clean.rating_denominator.value_counts()"
   ]
  },
  {
   "cell_type": "markdown",
   "metadata": {},
   "source": [
    "Rating denominator should have a constant value, we will further investigate all the rows with numbers other than 10 as denominator"
   ]
  },
  {
   "cell_type": "code",
   "execution_count": null,
   "metadata": {},
   "outputs": [],
   "source": [
    "# Get all dataset without 10 as denominator\n",
    "wrong_values = twitter_archive_enhanced_clean[twitter_archive_enhanced_clean['rating_denominator']!= 10]\n",
    "\n",
    "wrong_values\n"
   ]
  },
  {
   "cell_type": "code",
   "execution_count": null,
   "metadata": {},
   "outputs": [],
   "source": [
    "# Investigate the dataset further to understand why the ratings were incorrectly extracted\n",
    "import re\n",
    "\n",
    "counter = 0\n",
    "for i in wrong_values.text:\n",
    "    counter += 1\n",
    "    print(f'{counter}. This is text: {i}')\n",
    "    print()\n",
    "    new_extract = re.findall(r'\\d*\\.?\\d+\\/\\d{2}', i)\n",
    "    print(f'{counter}.This is the rating extracted:', new_extract)\n",
    "    print()\n",
    "   \n",
    "\n"
   ]
  },
  {
   "cell_type": "markdown",
   "metadata": {},
   "source": [
    "Assessing the data in the text editor I can see all the 23 incorrectly extracted ratings and I will make the all the necessary adjustments. "
   ]
  },
  {
   "cell_type": "markdown",
   "metadata": {},
   "source": [
    "Due to the volume, I can further assess these datasets using their pictures to arrive at the correct ratings "
   ]
  },
  {
   "cell_type": "markdown",
   "metadata": {},
   "source": [
    "For those without double ratings, further Investigation will be done to ascertain the ratings, however, if nothing, it will be replace with 0"
   ]
  },
  {
   "cell_type": "code",
   "execution_count": null,
   "metadata": {},
   "outputs": [],
   "source": [
    "# Albanian 3 1/2 legged  Episcopalian\n",
    "\n",
    "twitter_archive_enhanced_clean.iloc[2335, 10] = 9\n",
    "twitter_archive_enhanced_clean.iloc[2335, 11] = 10\n",
    "\n",
    "# entire platoon of puppers. Total score: 88/80 \n",
    "# There are 8 puppers in the picture, 11/10\n",
    "\n",
    "twitter_archive_enhanced_clean.iloc[1843, 10] = 11\n",
    "twitter_archive_enhanced_clean.iloc[1843, 11] = 10\n",
    "\n",
    "# IT'S PUPPERGEDDON. Total of 144/120 ...I think\n",
    "# There are 12 puppers in the picture, 11/10\n",
    "\n",
    "twitter_archive_enhanced_clean.iloc[1779, 10] = 12\n",
    "twitter_archive_enhanced_clean.iloc[1779, 11] = 10\n",
    "\n",
    "\n",
    "# This is Darrel. He just robbed a 7/11, ratings=10/10\n",
    "\n",
    "twitter_archive_enhanced_clean.iloc[1662, 10] = 10\n",
    "twitter_archive_enhanced_clean.iloc[1662, 11] = 10"
   ]
  },
  {
   "cell_type": "code",
   "execution_count": null,
   "metadata": {},
   "outputs": [],
   "source": [
    "#Clever puppers 121/110\n",
    "# There are 12 puppers in the picture, 11/10\n",
    "\n",
    "twitter_archive_enhanced_clean.iloc[1635, 10] = 11\n",
    "twitter_archive_enhanced_clean.iloc[1635, 11] = 10\n",
    "\n",
    "# Two sneaky puppers were not initially seen, moving the rating to 143/130. \n",
    "\n",
    "twitter_archive_enhanced_clean.iloc[1635, 10] = 13\n",
    "twitter_archive_enhanced_clean.iloc[1635, 11] = 10\n",
    "\n",
    "# The tweet below is a reply to the one above\n",
    "\n",
    "\n",
    "twitter_archive_enhanced_clean.iloc[1634, 10] = 0\n",
    "twitter_archive_enhanced_clean.iloc[1634, 11] = 0"
   ]
  },
  {
   "cell_type": "code",
   "execution_count": null,
   "metadata": {},
   "outputs": [],
   "source": [
    "# here's a bucket of pups. 44/40 would pet all at once\n",
    "# There are 4 puppers in the picture, 11/10\n",
    "\n",
    "twitter_archive_enhanced_clean.iloc[1433, 10] = 11\n",
    "twitter_archive_enhanced_clean.iloc[1433, 11] = 10\n",
    "\n",
    "# Here is a whole flock of puppers.  60/50 I'll take the lot\n",
    "# There are 5 dogs in the picture, 12/10\n",
    "\n",
    "twitter_archive_enhanced_clean.iloc[1351, 10] = 12\n",
    "twitter_archive_enhanced_clean.iloc[1351, 11] = 10\n",
    "\n",
    "\n",
    "# None know where camera is. 45/50 would hug all at once\n",
    "# There are 5 dogs in the picture, 9/10\n",
    "\n",
    "twitter_archive_enhanced_clean.iloc[1274, 10] = 9\n",
    "twitter_archive_enhanced_clean.iloc[1274, 11] = 10\n",
    "\n",
    "# brigade of puppers. All look very prepared for whatever happens next. 80/80\n",
    "# There are 8 dogs in the picture, 10/10\n",
    "\n",
    "twitter_archive_enhanced_clean.iloc[1254, 10] = 10\n",
    "twitter_archive_enhanced_clean.iloc[1254, 11] = 10\n",
    "\n",
    "# Happy Saturday here's 9 puppers on a bench. 99/90 good work everybody\n",
    "# There are 9 dogs in the picture, 11/10\n",
    "\n",
    "twitter_archive_enhanced_clean.iloc[1228, 10] = 11\n",
    "twitter_archive_enhanced_clean.iloc[1228, 11] = 10\n",
    "\n",
    "# This is Bluebert.\n",
    "# Amazed af. 11/10\n",
    "\n",
    "twitter_archive_enhanced_clean.iloc[1202, 10] = 11\n",
    "twitter_archive_enhanced_clean.iloc[1202, 11] = 10\n",
    "\n",
    "\n",
    "# Happy 4/20 from the squad! 13/10 for all\n",
    "\n",
    "twitter_archive_enhanced_clean.iloc[1165, 10] = 13\n",
    "twitter_archive_enhanced_clean.iloc[1165, 11] = 10\n",
    "\n",
    "# well behaved squad of doggos. 204/170 would try to pet all at once\n",
    "# There are 17 doggos in the picture, 12/10\n",
    "\n",
    "twitter_archive_enhanced_clean.iloc[1120, 10] = 12\n",
    "twitter_archive_enhanced_clean.iloc[1120, 11] = 10\n",
    "\n",
    "# this is Bretagne.\n",
    "# last surviving 9/11 search dog, and our second ever 14/10. \n",
    "\n",
    "twitter_archive_enhanced_clean.iloc[1068, 10] = 14\n",
    "twitter_archive_enhanced_clean.iloc[1068, 11] = 10\n",
    "\n",
    "# Why does this never happen at my front door... 165/150 \n",
    "# There are 15 dogs in the picture, 11/10\n",
    "\n",
    "twitter_archive_enhanced_clean.iloc[902, 10] = 11\n",
    "twitter_archive_enhanced_clean.iloc[902, 11] = 10\n",
    "\n",
    "# the floofs have been released. 84/70\n",
    "# There are 7 dogs in the picture, 12/10\n",
    "\n",
    "twitter_archive_enhanced_clean.iloc[433, 10] = 12\n",
    "twitter_archive_enhanced_clean.iloc[433, 11] = 10\n",
    "\n",
    "\n",
    "# but 960/00 isn't a valid rating, 13/10 is tho\n",
    "\n",
    "twitter_archive_enhanced_clean.iloc[313, 10] = 13\n",
    "twitter_archive_enhanced_clean.iloc[313, 11] = 10\n",
    "\n",
    "\n",
    "\n"
   ]
  },
  {
   "cell_type": "code",
   "execution_count": null,
   "metadata": {},
   "outputs": [],
   "source": [
    "\n",
    "# account started on 11/15/15\n",
    "twitter_archive_enhanced_clean.iloc[342, 10] = 0\n",
    "twitter_archive_enhanced_clean.iloc[342, 11] = 0\n",
    "\n",
    "# Meet Sam. She smiles 24/7 \n",
    "twitter_archive_enhanced_clean.iloc[516, 10] = 0\n",
    "twitter_archive_enhanced_clean.iloc[516, 11] = 0\n",
    "\n",
    "# Yes I do realize a rating of 4/20\n",
    "twitter_archive_enhanced_clean.iloc[1598, 10] = 0\n",
    "twitter_archive_enhanced_clean.iloc[1598, 11] = 0\n",
    "\n",
    "# Yes I do realize a rating of 4/20\n",
    "twitter_archive_enhanced_clean.iloc[1663, 10] = 0\n",
    "twitter_archive_enhanced_clean.iloc[1663, 11] = 0\n",
    "\n",
    "\n"
   ]
  },
  {
   "cell_type": "markdown",
   "metadata": {},
   "source": [
    "I realized that some rating_numerators are actually in fractions and are incorrectly extracted"
   ]
  },
  {
   "cell_type": "code",
   "execution_count": null,
   "metadata": {},
   "outputs": [],
   "source": [
    "\n",
    "# Get all the fraction values\n",
    "fraction_values = twitter_archive_enhanced_clean[twitter_archive_enhanced_clean.text.str.contains(r\"(\\d+\\.\\d*\\/\\d+)\")][['text', 'rating_numerator','rating_denominator']]\n"
   ]
  },
  {
   "cell_type": "code",
   "execution_count": null,
   "metadata": {},
   "outputs": [],
   "source": [
    "# Get an overview of the fraction values\n",
    "\n",
    "for i in fraction_values['text']:\n",
    "    print()\n",
    "    print(i)"
   ]
  },
  {
   "cell_type": "code",
   "execution_count": null,
   "metadata": {},
   "outputs": [],
   "source": [
    "\n",
    "# Treat fraction values \n",
    "twitter_archive_enhanced_clean.iloc[45, 5] = 13.5\n",
    "twitter_archive_enhanced_clean.iloc[340, 5] = 9.75\n",
    "twitter_archive_enhanced_clean.iloc[695, 5] = 9.75\n",
    "twitter_archive_enhanced_clean.iloc[763, 5] = 11.27\n",
    "twitter_archive_enhanced_clean.iloc[1689, 5] = 9.5\n",
    "twitter_archive_enhanced_clean.iloc[1712, 5] = 11.26"
   ]
  },
  {
   "cell_type": "markdown",
   "metadata": {},
   "source": [
    "#### Test"
   ]
  },
  {
   "cell_type": "code",
   "execution_count": null,
   "metadata": {},
   "outputs": [],
   "source": [
    "twitter_archive_enhanced_clean.rating_denominator.value_counts(normalize=True)"
   ]
  },
  {
   "cell_type": "code",
   "execution_count": null,
   "metadata": {},
   "outputs": [],
   "source": [
    "twitter_archive_enhanced_clean.query('rating_denominator==11')"
   ]
  },
  {
   "cell_type": "markdown",
   "metadata": {},
   "source": [
    "##### Issue #2: timestamp is a string"
   ]
  },
  {
   "cell_type": "markdown",
   "metadata": {},
   "source": [
    "#### Define: Convert timestamp column from a string to datetime"
   ]
  },
  {
   "cell_type": "markdown",
   "metadata": {},
   "source": [
    "#### Code"
   ]
  },
  {
   "cell_type": "code",
   "execution_count": null,
   "metadata": {},
   "outputs": [],
   "source": [
    "# Convert to datetime\n",
    "twitter_archive_enhanced_clean['timestamp'] = pd.to_datetime(twitter_archive_enhanced_clean['timestamp'])"
   ]
  },
  {
   "cell_type": "markdown",
   "metadata": {},
   "source": [
    "#### Test"
   ]
  },
  {
   "cell_type": "code",
   "execution_count": null,
   "metadata": {},
   "outputs": [],
   "source": [
    "# Check for Datatype\n",
    "twitter_archive_enhanced_clean.dtypes"
   ]
  },
  {
   "cell_type": "markdown",
   "metadata": {},
   "source": [
    "#### Issue #3:  retweets are present in dataset "
   ]
  },
  {
   "cell_type": "markdown",
   "metadata": {},
   "source": [
    "#### Define: Drop Retweets"
   ]
  },
  {
   "cell_type": "markdown",
   "metadata": {},
   "source": [
    "#### Code"
   ]
  },
  {
   "cell_type": "code",
   "execution_count": null,
   "metadata": {},
   "outputs": [],
   "source": [
    "# Check for retweeted_status\n",
    "twitter_archive_enhanced_clean[twitter_archive_enhanced_clean.retweeted_status_id.notnull()]"
   ]
  },
  {
   "cell_type": "code",
   "execution_count": null,
   "metadata": {},
   "outputs": [],
   "source": [
    "# Drop  Retweets\n",
    "twitter_archive_enhanced_clean.drop(twitter_archive_enhanced_clean[twitter_archive_enhanced_clean.retweeted_status_id.notnull()].index, inplace=True, axis=0)"
   ]
  },
  {
   "cell_type": "markdown",
   "metadata": {},
   "source": [
    "#### Test"
   ]
  },
  {
   "cell_type": "code",
   "execution_count": null,
   "metadata": {},
   "outputs": [],
   "source": [
    "# Check for retweeted_status\n",
    "twitter_archive_enhanced_clean[twitter_archive_enhanced_clean.retweeted_status_id.notnull()]"
   ]
  },
  {
   "cell_type": "markdown",
   "metadata": {},
   "source": [
    "#### Issue #4:  name column is in different case and contains impossible Values"
   ]
  },
  {
   "cell_type": "markdown",
   "metadata": {},
   "source": [
    "#### Define: Treat Name column\n"
   ]
  },
  {
   "cell_type": "markdown",
   "metadata": {},
   "source": [
    "- Remove Impossible values and capitalize"
   ]
  },
  {
   "cell_type": "markdown",
   "metadata": {},
   "source": [
    "#### Code\n"
   ]
  },
  {
   "cell_type": "code",
   "execution_count": null,
   "metadata": {},
   "outputs": [],
   "source": [
    "# Get a view of all the names in lower case\n",
    "impossible_names = twitter_archive_enhanced_clean.name.str.contains(r'^[a-z]')\n",
    "\n",
    "# impossible_names['name'].sample(20)\n",
    "twitter_archive_enhanced_clean[impossible_names].name.head(20)\n"
   ]
  },
  {
   "cell_type": "code",
   "execution_count": null,
   "metadata": {},
   "outputs": [],
   "source": [
    "twitter_archive_enhanced_clean.loc[impossible_names,'name'] = 'nil'"
   ]
  },
  {
   "cell_type": "code",
   "execution_count": null,
   "metadata": {},
   "outputs": [],
   "source": []
  },
  {
   "cell_type": "code",
   "execution_count": null,
   "metadata": {},
   "outputs": [],
   "source": [
    "twitter_archive_enhanced_clean['name'] = twitter_archive_enhanced_clean.name.str.capitalize()"
   ]
  },
  {
   "cell_type": "markdown",
   "metadata": {},
   "source": [
    "#### Test"
   ]
  },
  {
   "cell_type": "code",
   "execution_count": null,
   "metadata": {},
   "outputs": [],
   "source": [
    "\n",
    "\n",
    "\n",
    "# Check for values in lower case\n",
    "\n",
    "twitter_archive_enhanced_clean.name.str.islower().sum()"
   ]
  },
  {
   "cell_type": "markdown",
   "metadata": {},
   "source": [
    "#### Issue #5: column names are not descriptive enough"
   ]
  },
  {
   "cell_type": "markdown",
   "metadata": {},
   "source": [
    "#### Define: Rename Columns "
   ]
  },
  {
   "cell_type": "markdown",
   "metadata": {},
   "source": [
    "#### Code"
   ]
  },
  {
   "cell_type": "code",
   "execution_count": null,
   "metadata": {},
   "outputs": [],
   "source": [
    "image_predictions_clean.columns = ('tweet_id','jpg_url',\t'img_num'\t,'prediction_1',\n",
    "'prediction_1_con',\n",
    "'prediction_1_breed',\n",
    "\n",
    "'prediction_2',\n",
    "'prediction_2_con',\n",
    "'prediction_2_breed',\n",
    "'prediction_3',\n",
    "'prediction_3_con',\n",
    "'prediction_3_breed')"
   ]
  },
  {
   "cell_type": "markdown",
   "metadata": {},
   "source": [
    "#### Test"
   ]
  },
  {
   "cell_type": "code",
   "execution_count": null,
   "metadata": {},
   "outputs": [],
   "source": [
    "image_predictions_clean.info()"
   ]
  },
  {
   "cell_type": "markdown",
   "metadata": {},
   "source": [
    "#### Issue #6: prediction 1 - 3 not in the same case"
   ]
  },
  {
   "cell_type": "markdown",
   "metadata": {},
   "source": [
    "#### Define: Capitalize the columns"
   ]
  },
  {
   "cell_type": "markdown",
   "metadata": {},
   "source": [
    "#### Code"
   ]
  },
  {
   "cell_type": "code",
   "execution_count": null,
   "metadata": {},
   "outputs": [],
   "source": [
    "# Check for lower case\n",
    "print(image_predictions_clean.prediction_3.str.islower().sum())\n",
    "print(image_predictions_clean.prediction_2.str.islower().sum())\n",
    "print(image_predictions_clean.prediction_1.str.islower().sum())"
   ]
  },
  {
   "cell_type": "code",
   "execution_count": null,
   "metadata": {},
   "outputs": [],
   "source": [
    "# Treat the three prediction column\n",
    "image_predictions_clean['prediction_1']= image_predictions_clean.prediction_1.str.capitalize()\n",
    "image_predictions_clean['prediction_2'] = image_predictions_clean.prediction_2.str.capitalize()\n",
    "image_predictions_clean['prediction_3'] = image_predictions_clean.prediction_3.str.capitalize()"
   ]
  },
  {
   "cell_type": "markdown",
   "metadata": {},
   "source": [
    "#### Test"
   ]
  },
  {
   "cell_type": "code",
   "execution_count": null,
   "metadata": {},
   "outputs": [],
   "source": [
    "image_predictions_clean.prediction_1.str.islower().sum()"
   ]
  },
  {
   "cell_type": "markdown",
   "metadata": {},
   "source": [
    "#### Issue #7: created_at is a string"
   ]
  },
  {
   "cell_type": "markdown",
   "metadata": {},
   "source": [
    "#### Define: Treat created_at column"
   ]
  },
  {
   "cell_type": "markdown",
   "metadata": {},
   "source": [
    "#### Code"
   ]
  },
  {
   "cell_type": "code",
   "execution_count": null,
   "metadata": {},
   "outputs": [],
   "source": [
    "# Check the datatype\n",
    "tweet_api_df_clean.created_at.dtypes"
   ]
  },
  {
   "cell_type": "code",
   "execution_count": null,
   "metadata": {},
   "outputs": [],
   "source": [
    "# Convert to datetime\n",
    "tweet_api_df_clean['created_at'] = pd.to_datetime(tweet_api_df_clean['created_at'])"
   ]
  },
  {
   "cell_type": "markdown",
   "metadata": {},
   "source": [
    "#### Test"
   ]
  },
  {
   "cell_type": "code",
   "execution_count": null,
   "metadata": {},
   "outputs": [],
   "source": [
    "tweet_api_df_clean.info()"
   ]
  },
  {
   "cell_type": "markdown",
   "metadata": {},
   "source": [
    "#### Issue #8: retweets are present in dataset"
   ]
  },
  {
   "cell_type": "markdown",
   "metadata": {},
   "source": [
    "#### Define: Delete Retweets in Dataset"
   ]
  },
  {
   "cell_type": "markdown",
   "metadata": {},
   "source": [
    "#### Code"
   ]
  },
  {
   "cell_type": "code",
   "execution_count": null,
   "metadata": {},
   "outputs": [],
   "source": [
    "# Check for the status\n",
    "tweet_api_df_clean.retweeted_status.value_counts()"
   ]
  },
  {
   "cell_type": "code",
   "execution_count": null,
   "metadata": {},
   "outputs": [],
   "source": [
    "# Drop Retweets\n",
    "\n",
    "retweets = tweet_api_df_clean[tweet_api_df_clean['retweeted_status']== 'This is a retweet']\n",
    "tweet_api_df_clean.drop(retweets.index, inplace=True, axis=0)\n",
    "\n"
   ]
  },
  {
   "cell_type": "markdown",
   "metadata": {},
   "source": [
    "#### Test"
   ]
  },
  {
   "cell_type": "code",
   "execution_count": null,
   "metadata": {},
   "outputs": [],
   "source": [
    "# Confirm only one unique value 'Original Tweet'\n",
    "tweet_api_df_clean.retweeted_status.unique()"
   ]
  },
  {
   "cell_type": "markdown",
   "metadata": {},
   "source": [
    "### Tidiness"
   ]
  },
  {
   "cell_type": "markdown",
   "metadata": {},
   "source": [
    "#### Issue #1: tweet_id should be of the same datatype in each table"
   ]
  },
  {
   "cell_type": "markdown",
   "metadata": {},
   "source": [
    "#### Define: In tweet_api_df_clean,  Convert tweet_id to numeric to match"
   ]
  },
  {
   "cell_type": "markdown",
   "metadata": {},
   "source": [
    "#### Code"
   ]
  },
  {
   "cell_type": "code",
   "execution_count": null,
   "metadata": {},
   "outputs": [],
   "source": [
    "# Check dtypes\n",
    "tweet_api_df_clean.dtypes"
   ]
  },
  {
   "cell_type": "code",
   "execution_count": null,
   "metadata": {},
   "outputs": [],
   "source": [
    "# Convert to Numeric\n",
    "\n",
    "tweet_api_df_clean['tweet_id']= pd.to_numeric(tweet_api_df_clean['tweet_id'])"
   ]
  },
  {
   "cell_type": "markdown",
   "metadata": {},
   "source": [
    "###### Test"
   ]
  },
  {
   "cell_type": "code",
   "execution_count": null,
   "metadata": {},
   "outputs": [],
   "source": [
    "tweet_api_df_clean.info()"
   ]
  },
  {
   "cell_type": "markdown",
   "metadata": {},
   "source": [
    "#### Issue #2: Four Values are Variables (Columns)"
   ]
  },
  {
   "cell_type": "markdown",
   "metadata": {},
   "source": [
    "#### Define: Concat the columns "
   ]
  },
  {
   "cell_type": "markdown",
   "metadata": {},
   "source": [
    "#### Code"
   ]
  },
  {
   "cell_type": "code",
   "execution_count": null,
   "metadata": {},
   "outputs": [],
   "source": [
    "# Get the stage  \n",
    "stage = ['doggo', 'floofer', 'pupper', 'puppo']\n",
    "\n",
    "# Replace None with '' for concat\n",
    "for i in stage:\n",
    "    twitter_archive_enhanced_clean[i]=twitter_archive_enhanced_clean[i].replace(\"None\", \"\")\n",
    "\n",
    "\n"
   ]
  },
  {
   "cell_type": "code",
   "execution_count": null,
   "metadata": {},
   "outputs": [],
   "source": [
    "# combine all the columns\n",
    "twitter_archive_enhanced_clean['stage'] = twitter_archive_enhanced_clean.doggo.str.cat(twitter_archive_enhanced_clean.floofer)\n",
    "twitter_archive_enhanced_clean['stage'] = twitter_archive_enhanced_clean['stage'].str.cat(twitter_archive_enhanced_clean.pupper).str.cat(twitter_archive_enhanced_clean.puppo)\n",
    "\n"
   ]
  },
  {
   "cell_type": "code",
   "execution_count": null,
   "metadata": {},
   "outputs": [],
   "source": [
    "# drop the four \n",
    "twitter_archive_enhanced_clean = twitter_archive_enhanced_clean.drop(['doggo','floofer','pupper','puppo'], axis = 1)\n",
    "\n"
   ]
  },
  {
   "cell_type": "code",
   "execution_count": null,
   "metadata": {},
   "outputs": [],
   "source": [
    "# fill with nan for empty cells\n",
    "twitter_archive_enhanced_clean['stage'] = twitter_archive_enhanced_clean['stage'].replace('', np.nan)"
   ]
  },
  {
   "cell_type": "code",
   "execution_count": null,
   "metadata": {},
   "outputs": [],
   "source": [
    "# Define a function to replace with 'multiple'\n",
    "\n",
    "def get_multiple(stage):\n",
    "    if stage in ['doggopupper', 'doggopuppo', 'doggofloofer']:\n",
    "        stage = 'multiple'\n",
    "    else:\n",
    "        pass\n",
    "    return stage\n"
   ]
  },
  {
   "cell_type": "code",
   "execution_count": null,
   "metadata": {},
   "outputs": [],
   "source": [
    "twitter_archive_enhanced_clean['stage'] = twitter_archive_enhanced_clean['stage'].map(get_multiple)"
   ]
  },
  {
   "cell_type": "markdown",
   "metadata": {},
   "source": [
    "#### Test"
   ]
  },
  {
   "cell_type": "code",
   "execution_count": null,
   "metadata": {},
   "outputs": [],
   "source": [
    "twitter_archive_enhanced_clean.stage.value_counts()"
   ]
  },
  {
   "cell_type": "markdown",
   "metadata": {},
   "source": [
    "### Merge Datasets"
   ]
  },
  {
   "cell_type": "code",
   "execution_count": null,
   "metadata": {},
   "outputs": [],
   "source": [
    "# Merge Datasets \n",
    "\n",
    "twitter_archive_master = pd.merge(twitter_archive_enhanced_clean, image_predictions_clean, how='left', on='tweet_id')"
   ]
  },
  {
   "cell_type": "code",
   "execution_count": null,
   "metadata": {},
   "outputs": [],
   "source": []
  },
  {
   "cell_type": "code",
   "execution_count": null,
   "metadata": {},
   "outputs": [],
   "source": [
    "#Drop rows without picture (jpg_url)\n",
    "twitter_archive_master = twitter_archive_master[twitter_archive_master['jpg_url'].notnull()]"
   ]
  },
  {
   "cell_type": "code",
   "execution_count": null,
   "metadata": {},
   "outputs": [],
   "source": [
    "# Merge datasets\n",
    "\n",
    "twitter_archive_master = pd.merge(twitter_archive_master, tweet_api_df_clean, how='left', on='tweet_id')\n",
    "\n"
   ]
  },
  {
   "cell_type": "markdown",
   "metadata": {},
   "source": [
    "## Storing Data\n",
    "Save gathered, assessed, and cleaned master dataset to a CSV file named \"twitter_archive_master.csv\"."
   ]
  },
  {
   "cell_type": "code",
   "execution_count": null,
   "metadata": {},
   "outputs": [],
   "source": [
    "#Store the clean DataFrame in a CSV file\n",
    "twitter_archive_master.to_csv('twitter_archive_master.csv',index=False, encoding = 'utf-8')"
   ]
  },
  {
   "cell_type": "markdown",
   "metadata": {},
   "source": [
    "## Analyzing and Visualizing Data\n",
    "In this section, I analyze and visualize the wrangled data. I produce at least **three (3) insights and one (1) visualization.**"
   ]
  },
  {
   "cell_type": "markdown",
   "metadata": {},
   "source": [
    "### Most Prominent Dog Stage"
   ]
  },
  {
   "cell_type": "code",
   "execution_count": 140,
   "metadata": {},
   "outputs": [
    {
     "data": {
      "text/plain": [
       "<AxesSubplot:>"
      ]
     },
     "execution_count": 140,
     "metadata": {},
     "output_type": "execute_result"
    },
    {
     "data": {
      "image/png": "[encoded data removed]",
      "text/plain": [
       "<Figure size 432x288 with 1 Axes>"
      ]
     },
     "metadata": {
      "needs_background": "light"
     },
     "output_type": "display_data"
    }
   ],
   "source": [
    "# Get the most prominent Dog Stage\n",
    "twitter_archive_master.stage.value_counts(normalize=True).plot(kind='bar')"
   ]
  },
  {
   "cell_type": "markdown",
   "metadata": {},
   "source": [
    "The above chart shows the volume of content per dog stage. It is quite evident that the most prominent dog stage is the pupper, represented over 60% of the values. "
   ]
  },
  {
   "cell_type": "markdown",
   "metadata": {},
   "source": [
    "Multiple dog stages have the second least number. In the second part of this notebook, I will investigate the level of engagements derived from each dog stage. "
   ]
  },
  {
   "cell_type": "markdown",
   "metadata": {},
   "source": [
    "### Most Prominent Dog Breeds "
   ]
  },
  {
   "cell_type": "code",
   "execution_count": null,
   "metadata": {},
   "outputs": [],
   "source": [
    "# Get the most prominent dog breeds\n",
    "twitter_archive_master.groupby('prediction_1')['tweet_id'].count().sort_values(ascending=False).head(10)"
   ]
  },
  {
   "cell_type": "code",
   "execution_count": 115,
   "metadata": {},
   "outputs": [
    {
     "data": {
      "text/plain": [
       "prediction_1\n",
       "Golden_retriever      139\n",
       "Labrador_retriever     95\n",
       "Pembroke               88\n",
       "Chihuahua              79\n",
       "Pug                    54\n",
       "Chow                   41\n",
       "Samoyed                40\n",
       "Toy_poodle             38\n",
       "Pomeranian             38\n",
       "Malamute               29\n",
       "Name: tweet_id, dtype: int64"
      ]
     },
     "execution_count": 115,
     "metadata": {},
     "output_type": "execute_result"
    }
   ],
   "source": [
    "# Filter for true dog breed \n",
    "\n",
    "true_dog_breed = twitter_archive_master[twitter_archive_master['prediction_1_breed']==True]\n",
    "\n",
    "# Find top ten dog breed \n",
    "true_dog_breed.groupby('prediction_1')['tweet_id'].count().sort_values(ascending=False).head(10)\n"
   ]
  },
  {
   "cell_type": "markdown",
   "metadata": {},
   "source": [
    "### Most Prominent Source"
   ]
  },
  {
   "cell_type": "code",
   "execution_count": 116,
   "metadata": {},
   "outputs": [
    {
     "data": {
      "text/plain": [
       "Twitter for iPhone    0.980856\n",
       "Twitter Web Client    0.014106\n",
       "TweetDeck             0.005038\n",
       "Name: source_y, dtype: float64"
      ]
     },
     "execution_count": 116,
     "metadata": {},
     "output_type": "execute_result"
    }
   ],
   "source": [
    "twitter_archive_master.source_y.value_counts(normalize=True)"
   ]
  },
  {
   "cell_type": "markdown",
   "metadata": {},
   "source": [
    "### Insights:\n",
    "1. I was able to identify the most prominent dog breeds\n",
    "\n",
    "2. I was able to identify the most prominent dog stage\n",
    "\n",
    "\n",
    "3.  I was able to identify the most prominent source(aP)\n"
   ]
  },
  {
   "cell_type": "code",
   "execution_count": 121,
   "metadata": {},
   "outputs": [
    {
     "name": "stderr",
     "output_type": "stream",
     "text": [
      "/var/folders/w1/28w4z0fn4gg91y3ckzl9jwk00000gn/T/ipykernel_20224/3886551775.py:9: MatplotlibDeprecationWarning: savefig() got unexpected keyword argument \"transparemt\" which is no longer supported as of 3.3 and will become an error in 3.6\n",
      "  plt.savefig('test.png',dpi=300, transparemt=True)\n"
     ]
    },
    {
     "data": {
      "image/png": "[encoded data removed]",
      "text/plain": [
       "<Figure size 432x288 with 1 Axes>"
      ]
     },
     "metadata": {
      "needs_background": "light"
     },
     "output_type": "display_data"
    }
   ],
   "source": [
    "# Create a visualization\n",
    "\n",
    "x=twitter_archive_master.stage.value_counts().index\n",
    "y=twitter_archive_master.stage.value_counts().values\n",
    "\n",
    "sns.barplot(x=y,y=x,palette=\"Blues_d\")\n",
    "plt.ylabel('Dog Stage')\n",
    "plt.title('Most Prominent Dog Stage')\n",
    "plt.savefig('test.png',dpi=300, transparemt=True)\n"
   ]
  },
  {
   "cell_type": "markdown",
   "metadata": {},
   "source": [
    "## PART 2"
   ]
  },
  {
   "cell_type": "code",
   "execution_count": 136,
   "metadata": {},
   "outputs": [
    {
     "data": {
      "image/png": "[encoded data removed]",
      "text/plain": [
       "<Figure size 864x864 with 4 Axes>"
      ]
     },
     "metadata": {
      "needs_background": "light"
     },
     "output_type": "display_data"
    }
   ],
   "source": [
    "#Discover numerical columns in easier way\n",
    "df_numeric = twitter_archive_master[['retweet_count', 'favorite_count', 'rating_numerator']]\n",
    "df_numeric.hist(figsize = (12,12));"
   ]
  },
  {
   "cell_type": "markdown",
   "metadata": {},
   "source": [
    "I will investigate the level of engagements derived from each dog stage. "
   ]
  },
  {
   "cell_type": "code",
   "execution_count": 141,
   "metadata": {},
   "outputs": [
    {
     "data": {
      "text/plain": [
       "Index(['tweet_id', 'in_reply_to_status_id', 'in_reply_to_user_id', 'timestamp',\n",
       "       'source_x', 'text', 'retweeted_status_id', 'retweeted_status_user_id',\n",
       "       'retweeted_status_timestamp', 'expanded_urls', 'rating_numerator',\n",
       "       'rating_denominator', 'name', 'stage', 'jpg_url', 'img_num',\n",
       "       'prediction_1', 'prediction_1_con', 'prediction_1_breed',\n",
       "       'prediction_2', 'prediction_2_con', 'prediction_2_breed',\n",
       "       'prediction_3', 'prediction_3_con', 'prediction_3_breed',\n",
       "       'favorite_count', 'retweet_count', 'created_at', 'source_y',\n",
       "       'retweeted_status', 'url'],\n",
       "      dtype='object')"
      ]
     },
     "execution_count": 141,
     "metadata": {},
     "output_type": "execute_result"
    }
   ],
   "source": [
    "twitter_archive_master.columns"
   ]
  },
  {
   "cell_type": "code",
   "execution_count": 148,
   "metadata": {},
   "outputs": [
    {
     "data": {
      "image/png": "[encoded data removed]",
      "text/plain": [
       "<Figure size 432x288 with 1 Axes>"
      ]
     },
     "metadata": {},
     "output_type": "display_data"
    }
   ],
   "source": [
    "twitter_archive_master.groupby('stage')[['favorite_count', 'retweet_count']].mean().plot(kind='bar')\n",
    "\n",
    "\n",
    "plt.title('Likes Vs Retweets')\n",
    "plt.legend()\n",
    "plt.show()"
   ]
  },
  {
   "cell_type": "markdown",
   "metadata": {},
   "source": [
    "Further investigation shows the level of engagement from each dog stage. Pupper has the most tweet counts but in terms of engagements (likes and retweets) it is the least."
   ]
  },
  {
   "cell_type": "code",
   "execution_count": null,
   "metadata": {},
   "outputs": [],
   "source": []
  }
 ],
 "metadata": {
  "interpreter": {
   "hash": "7b34b089ce0dfc9935940e0a22050b2949fa617f7a2b73925623c261bed16aeb"
  },
  "kernelspec": {
   "display_name": "Python 3.9.12 ('base': conda)",
   "language": "python",
   "name": "python3"
  },
  "language_info": {
   "codemirror_mode": {
    "name": "ipython",
    "version": 3
   },
   "file_extension": ".py",
   "mimetype": "text/x-python",
   "name": "python",
   "nbconvert_exporter": "python",
   "pygments_lexer": "ipython3",
   "version": "3.9.12"
  },
  "orig_nbformat": 4
 },
 "nbformat": 4,
 "nbformat_minor": 2
}
